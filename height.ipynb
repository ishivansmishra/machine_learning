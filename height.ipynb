{
 "cells": [
  {
   "cell_type": "code",
   "execution_count": 1,
   "id": "f168ad86",
   "metadata": {},
   "outputs": [
    {
     "name": "stdout",
     "output_type": "stream",
     "text": [
      "CSV file 'height_weight.csv' created successfully!\n"
     ]
    }
   ],
   "source": [
    "import pandas as pd\n",
    "import numpy as np\n",
    "\n",
    "n = 30\n",
    "\n",
    "heights = np.random.randint(150,200,n) \n",
    "weights = np.random.randint(50,100,n)\n",
    "\n",
    "data = pd.DataFrame({\n",
    "    'Height_cm': heights,\n",
    "    'weights_Kg' : weights\n",
    "}) \n",
    "\n",
    "\n",
    "data.to_csv('heights_weights.csv',index=False)\n",
    "\n",
    "print(\"CSV file 'height_weight.csv' created successfully!\")\n",
    "\n",
    "\n"
   ]
  }
 ],
 "metadata": {
  "kernelspec": {
   "display_name": "ml_env",
   "language": "python",
   "name": "python3"
  },
  "language_info": {
   "codemirror_mode": {
    "name": "ipython",
    "version": 3
   },
   "file_extension": ".py",
   "mimetype": "text/x-python",
   "name": "python",
   "nbconvert_exporter": "python",
   "pygments_lexer": "ipython3",
   "version": "3.11.14"
  }
 },
 "nbformat": 4,
 "nbformat_minor": 5
}
